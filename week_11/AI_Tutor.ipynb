{
  "nbformat": 4,
  "nbformat_minor": 0,
  "metadata": {
    "colab": {
      "provenance": [],
      "authorship_tag": "ABX9TyOYg/Th77Q9J2UH1YgK6ypb",
      "include_colab_link": true
    },
    "kernelspec": {
      "name": "python3",
      "display_name": "Python 3"
    },
    "language_info": {
      "name": "python"
    }
  },
  "cells": [
    {
      "cell_type": "markdown",
      "metadata": {
        "id": "view-in-github",
        "colab_type": "text"
      },
      "source": [
        "<a href=\"https://colab.research.google.com/github/ancestor9/2025_Spring_Data-Management/blob/main/week_11/AI_Tutor.ipynb\" target=\"_parent\"><img src=\"https://colab.research.google.com/assets/colab-badge.svg\" alt=\"Open In Colab\"/></a>"
      ]
    },
    {
      "cell_type": "markdown",
      "source": [
        "# **🎯 BKT란?**\n",
        "\n",
        "### **Bayesian Knowledge Tracing (BKT)** 는 학생이 문제를 푸는 행위를 관찰하면서, **어떤 개념(스킬)을 알고 있는지(혹은 아직 모르는지)** 를 **베이즈 확률 모델**을 통해 추적하는 알고리즘이다.\n",
        "\n",
        "### BKT는 **개별 개념별로 학습자의 지식 상태 `P(Know)` 를 지속적으로 갱신**한다.\n",
        "\n",
        "---\n",
        "\n",
        "## 🔍 핵심 개념\n",
        "\n",
        "- BKT는 각 개념(concept)을 **이진 상태**로 가정한다:\n",
        "\n",
        "  - ✅ 알고 있음 (`Know`)\n",
        "  - ❌ 모름 (`Not Know`)\n",
        "\n",
        "- 학생은 문제를 풀면서 다음과 같은 행동을 보일 수 있다:\n",
        "  - 알고 있는 개념도 실수로 틀릴 수 있다 (`Slip`)\n",
        "  - 모르는 개념도 찍어서 맞출 수 있다 (`Guess`)\n",
        "  - 문제를 통해 개념을 학습할 수 있다 (`Learn`)\n",
        "\n",
        "---\n",
        "\n",
        "## 📊 **예측 변수 Parameters**\n",
        "\n",
        "| 파라미터     | 의미                                          |\n",
        "|--------------|-----------------------------------------------|\n",
        "| `p_init`     | 초기 지식 수준 (처음부터 알고 있을 확률)     |\n",
        "| `p_learn`    | 문제를 통해 새로 배울 확률                    |\n",
        "| `p_guess`    | 모름에도 불구하고 정답을 맞출 확률           |\n",
        "| `p_slip`     | 알고 있음에도 실수로 오답을 낼 확률          |\n",
        "\n",
        "---\n",
        "\n",
        "\n",
        "## ✅ 요약\n",
        "\n",
        "- BKT는 **실시간 학생 진단**과 **맞춤형 문제 추천**에 매우 적합함\n",
        "- 이해하기 쉽고, 적은 데이터로도 작동\n",
        "- 해석 가능성이 높은 **화이트박스 모델**\n",
        "\n",
        "> 💡 실제 문제풀이 로그 + `P(Know)` 추정값을 기록하며 분석하는 데 매우 유용\n"
      ],
      "metadata": {
        "id": "REQCYZrGgOzh"
      }
    },
    {
      "cell_type": "markdown",
      "source": [
        "\n",
        "\n",
        "- 학생은 처음에는 대부분 모른다고 가정 (P(Know) 20%), 맞출 확률은 20%\n",
        "- 문제를 풀면서 학습(30% 확률로 숙지됨)\n",
        "- 찍어서 맞출 확률이 25% (4지선다에서 현실적 수치)\n",
        "- 아는 것도 가끔 틀릴 수 있음 (5% 실수 확률), 20문제에서 1개는 실수로\n",
        "\n",
        "\n",
        "| 상황            | 판단 포인트      | 관련 파라미터   |\n",
        "| ------------- | ----------- | --------- |\n",
        "| 정답을 맞췄을 때     | 운으로 맞췄는가?   | `p_guess` |\n",
        "| 오답을 냈을 때      | 실수였는가?      | `p_slip`  |\n",
        "| 문제 풀이 후 배웠는가? | 학습 전이 여부    | `p_learn` |\n",
        "| 초기 상태는?       | 개념 알고 시작했나? | `p_init`  |\n",
        "\n",
        "<img src='https://miro.medium.com/v2/resize:fit:839/1*uivjxg-_jmSpFqxwWH80DA.png'>"
      ],
      "metadata": {
        "id": "ai58yhUgw3AR"
      }
    },
    {
      "cell_type": "markdown",
      "source": [
        "# <font color='orange'> **1. 학생 수준진단 모델 정의**\n",
        "\n",
        "## 학생이 문제를 풀었을 경우 맞췄을지/틀렸을지에 따라,\n",
        "### \"실제로 이 개념을 알고 있었는지?\" (정답이든 오답이든 알고 있었는지?)\n",
        "- p_know_given_obs\n",
        "\n",
        "### 문제 풀이를 통해 \"이번에 새롭게 배웠는지?\" (몰랐지만 배웠는지?)\n",
        "- (1 - p_know_given_obs) * self.p_learn\n",
        "\n",
        "### 를 추론해서 P(Know) 값을 갱신해주는 역할\n",
        "- p_know_given_obs + (1 - p_know_given_obs) * self.p_learn\n",
        "\n",
        "📌 **정답을 맞췄을 때의 확률 계산 요약 (Bayesian Knowledge Tracing)**\n",
        "\n",
        "| 항목                       | 수식                                                                 | 의미                                      |\n",
        "|--------------------------|----------------------------------------------------------------------|-----------------------------------------|\n",
        "| 알고 있어서 맞췄을 확률        | $$p_{\\text{know}} \\cdot (1 - \\text{slip})$$                            | 알고 있는데 실수하지 않고 맞춘 경우               |\n",
        "| 몰랐는데 찍어서 맞춘 확률      | $$(1 - p_{\\text{know}}) \\cdot \\text{guess}$$                           | 몰랐지만 찍어서 맞춘 경우                    |\n",
        "| 분자 (num)               | $$p_{\\text{know}} \\cdot (1 - \\text{slip})$$                            | 정답일 확률의 분자                        |\n",
        "| 분모 (den)               | $$p_{\\text{know}} \\cdot (1 - \\text{slip}) + (1 - p_{\\text{know}}) \\cdot \\text{guess}$$ | 전체 정답일 확률                         |\n",
        "| 정답 시 업데이트된 확률       | $$\\frac{\\text{num}}{\\text{den}}$$                                     | 새로운 $$P(\\text{Know} \\mid \\text{Correct})$$ |\n",
        "| 학습 효과 반영             | $$\\frac{\\text{num}}{\\text{den}} + (1 - p_{\\text{know}}) \\cdot p_{\\text{learn}}$$ | 문제를 통해 새로 배운 경우까지 반영한 최종 확률     |\n",
        "\n"
      ],
      "metadata": {
        "id": "agKq2IwRou2p"
      }
    },
    {
      "cell_type": "code",
      "source": [
        "# ----------------------------\n",
        "# BKT 클래스 정의\n",
        "# ----------------------------\n",
        "class BKT:\n",
        "    def __init__(self, p_init=0.2, p_learn=0.3, p_guess=0.25, p_slip=0.05):\n",
        "        self.p_init = p_init\n",
        "        self.p_learn = p_learn\n",
        "        self.p_guess = p_guess\n",
        "        self.p_slip = p_slip\n",
        "\n",
        "    def update(self, p_know, is_correct):\n",
        "        # ----------------------------\n",
        "        # 정답을 맞췄다면: 알고 있을 유형의 확률 1\n",
        "        # ----------------------------\n",
        "        # p_know * (1 - slip): 원래 알고 있고 실수 없이 맞췄을 확률\n",
        "        # (1 - p_know) * guess: 몰랐지만 찍어서 맞췄을 확률\n",
        "        # den: 총 맞출 확률\n",
        "        # → 정답인데, \"정말 알고 맞췄을 확률\"을 계산함(p_know_given_obs = num / den)\n",
        "\n",
        "        if is_correct:\n",
        "            num = p_know * (1 - self.p_slip)           # 알고 있고 실수 없이 맞출 확률\n",
        "            den = num + (1 - p_know) * self.p_guess    # # 총 맞출 확률 (by 실력 or 운)\n",
        "\n",
        "        # ----------------------------\n",
        "        # 오답을 냈다면: 알고 있을 유형의 확률 2\n",
        "        # ----------------------------\n",
        "        # p_know * slip: 알고 있지만 실수해서 틀림\n",
        "        # (1 - p_know) * (1 - guess): 몰라서 틀림\n",
        "        # den: 총 틀릴 확률\n",
        "        # → 오답인데, 알고 있는데 불구하고 \"실수로 틀렸을 확률\"을 계산함(p_know_given_obs = num / den)\n",
        "\n",
        "        else:\n",
        "            num = p_know * self.p_slip\n",
        "            den = num + (1 - p_know) * (1 - self.p_guess)\n",
        "\n",
        "        # 정답인데 알고 있어서 맞출 확률이고,\n",
        "        # 오답인데 알고 있는데 틀린 확률,\n",
        "        # -----> 정답이든 오답이든 실제로 학생이 알고 있을 확률을 문제 풀이를 통해 알고있는 사후확률\n",
        "        # Bayes 정리를 이용한 업데이트:\n",
        "\n",
        "        p_know_given_obs = num / den # 현재 관찰(정답/오답)을 기반으로 P(Know | Observation) 추정\n",
        "\n",
        "        # Return 값은 이후 학습 효과 반영:\n",
        "        # 학생이 지금은 몰라도 이번 문제를 풀며 배웠을 가능성 있음 → p_learn 반영\n",
        "        # → 최종적으로 P(Know, t+1) 값을 계산\n",
        "\n",
        "        return p_know_given_obs + (1 - p_know_given_obs) * self.p_learn  # 문제를 풀고 알게된 확률과 문제를 통해 배운게 된 확률의 합\n"
      ],
      "metadata": {
        "id": "EaKA6kNnfSjl"
      },
      "execution_count": null,
      "outputs": []
    },
    {
      "cell_type": "markdown",
      "source": [
        "## return 값은 Baysian 사후확률 개념을 적용하여 아래와 같이 계산 :\n",
        "- **문제를 풀면(Obsercation) 풀수록 알고 있는 수준이 어느 정도인지 확률로 Update**\n",
        "\n",
        "> -  정답일 경우 실제로 알고 있을 확률;\n",
        "$$p(\\text{Know} \\mid \\text{Correct}) = \\frac{p(\\text{Correct} \\mid \\text{Know}) \\cdot p(\\text{Know})}{p(\\text{Correct})}$$\n",
        "\n",
        "> - 오답일 경우 실제로 알고 있을 확률 ;\n",
        "$$p(\\text{Know} \\mid \\text{Incorrect}) = \\frac{p(\\text{Incorrect} \\mid \\text{Know}) \\cdot p(\\text{Know})}{p(\\text{Incorrect})}$$\n",
        "\n",
        "<예시>\n",
        "- p_know = 0.4  # 현재 지식 수준\n",
        "- is_correct = True\n",
        "\n",
        "- p_know_given_obs = 0.57  # 관찰된 정답으로부터 계산된 새로운 추정\n",
        "- p_know_updated = 0.57 + (1 - 0.57) * 0.3 = 약 0.70\n",
        "\n",
        "\n",
        "### **문제의 난이도를 반영하여 얼마나 알고 있는지 확률로 확인**"
      ],
      "metadata": {
        "id": "nb1H2vlKkRxM"
      }
    },
    {
      "cell_type": "markdown",
      "source": [
        "\n",
        "### 🔁 상태 업데이트 흐름\n",
        "#### BKT (Bayesian Knowledge Tracing) 모델\n",
        "\n",
        "##### 1. 문제 풀이 이전의 상태:\n",
        "$$P(\\text{Know}) = p_{\\text{init}}$$\n",
        "\n",
        "##### 2. 정답일 때:\n",
        "$$P(\\text{Know} \\mid \\text{Correct}) = \\frac{P(\\text{Know}) \\cdot (1 - p_{\\text{slip}})}{P(\\text{Know}) \\cdot (1 - p_{\\text{slip}}) + (1 - P(\\text{Know})) \\cdot p_{\\text{guess}}}$$\n",
        "\n",
        "##### 3. 오답일 때:\n",
        "$$P(\\text{Know} \\mid \\text{Incorrect}) = \\frac{P(\\text{Know}) \\cdot p_{\\text{slip}}}{P(\\text{Know}) \\cdot p_{\\text{slip}} + (1 - P(\\text{Know})) \\cdot (1 - p_{\\text{guess}})}$$\n",
        "\n",
        "##### 4. 학습 효과 반영:\n",
        "$$P(\\text{Know}_{t+1}) = P(\\text{Know}) + (1 - P(\\text{Know})) \\cdot p_{\\text{learn}}$$"
      ],
      "metadata": {
        "id": "ZBEHDwdlykPO"
      }
    },
    {
      "cell_type": "markdown",
      "source": [
        "# <font color='orange'> **2. 초기 진단 문제와 학생 무작위로 생성**"
      ],
      "metadata": {
        "id": "o3Sij69mosn7"
      }
    },
    {
      "cell_type": "code",
      "source": [
        "import random\n",
        "\n",
        "# ----------------------------\n",
        "# 문제 50개 생성\n",
        "# ----------------------------\n",
        "levels = ['상', '중', '하']\n",
        "types = ['T1', 'T2', 'T3', 'T4', 'T5']\n",
        "\n",
        "problems = []\n",
        "for i in range(50):\n",
        "    problem = {\n",
        "        'id': i,\n",
        "        'difficulty': random.choice(levels),\n",
        "        'type': random.choice(types)\n",
        "    }\n",
        "    problems.append(problem)\n",
        "\n",
        "\n",
        "# ----------------------------\n",
        "# 학생 초기화\n",
        "# ----------------------------\n",
        "students = ['student01', 'student02', 'student03']\n",
        "student_knowledge = {s: {t: 0.2 for t in types} for s in students}  # 초기 P(Know)\n",
        "\n",
        "difficulty_correct_prob = {\n",
        "    '하': 0.9,\n",
        "    '중': 0.6,\n",
        "    '상': 0.3\n",
        "}\n",
        "\n",
        "# ----------------------------\n",
        "# 동일한 문제 10개를 뽑아 모든 학생이 풀이\n",
        "# ----------------------------\n",
        "selected_problems = random.sample(problems, 10)\n",
        "print(\"📝 선택된 10개 문제 목록:\")\n",
        "for p in selected_problems:\n",
        "    print(f\"문제 {p['id']:02d} | 유형 {p['type']} | 난이도 {p['difficulty']}\")"
      ],
      "metadata": {
        "colab": {
          "base_uri": "https://localhost:8080/"
        },
        "id": "hZwKngLVgkUe",
        "outputId": "d7b4ca5d-4cfb-4c00-eaa8-8d6fd52506af"
      },
      "execution_count": null,
      "outputs": [
        {
          "output_type": "stream",
          "name": "stdout",
          "text": [
            "📝 선택된 10개 문제 목록:\n",
            "문제 17 | 유형 T5 | 난이도 하\n",
            "문제 09 | 유형 T4 | 난이도 하\n",
            "문제 38 | 유형 T4 | 난이도 상\n",
            "문제 21 | 유형 T4 | 난이도 상\n",
            "문제 07 | 유형 T5 | 난이도 상\n",
            "문제 05 | 유형 T5 | 난이도 하\n",
            "문제 11 | 유형 T5 | 난이도 중\n",
            "문제 12 | 유형 T2 | 난이도 중\n",
            "문제 22 | 유형 T5 | 난이도 상\n",
            "문제 34 | 유형 T3 | 난이도 중\n"
          ]
        }
      ]
    },
    {
      "cell_type": "markdown",
      "source": [
        "| 항목                                    | 설명                                         |\n",
        "| ------------------------------------- | ------------------------------------------ |\n",
        "| `student01`, `student02`, `student03` | 학생 ID                                      |\n",
        "| `'T1' ~ 'T5'`                         | 문제 유형 (Topic 1 \\~ Topic 5, 또는 개념 1\\~5)     |\n",
        "| `0.2`                               | 초기 개념 숙지 확률 (P(Know)) → 학생이 이 유형을 알고 있을 확률 |\n"
      ],
      "metadata": {
        "id": "fyOdgtuaofc4"
      }
    },
    {
      "cell_type": "code",
      "source": [
        "student_knowledge"
      ],
      "metadata": {
        "colab": {
          "base_uri": "https://localhost:8080/"
        },
        "id": "0f4A6cJjn-pS",
        "outputId": "f6015a56-9db0-40d0-fd7a-d957c1bfd960"
      },
      "execution_count": null,
      "outputs": [
        {
          "output_type": "execute_result",
          "data": {
            "text/plain": [
              "{'student01': {'T1': 0.2, 'T2': 0.2, 'T3': 0.2, 'T4': 0.2, 'T5': 0.2},\n",
              " 'student02': {'T1': 0.2, 'T2': 0.2, 'T3': 0.2, 'T4': 0.2, 'T5': 0.2},\n",
              " 'student03': {'T1': 0.2, 'T2': 0.2, 'T3': 0.2, 'T4': 0.2, 'T5': 0.2}}"
            ]
          },
          "metadata": {},
          "execution_count": 3
        }
      ]
    },
    {
      "cell_type": "markdown",
      "source": [
        "# <font color='orange'> **3. BKT 모델 초기화**\n",
        "\n",
        "### 🔧 사후확률 작동 방식(Mechanism)\n",
        "- 예를 들어 student02가 T3 유형 문제를 풀고 정답이면:\n",
        "\n",
        "> - p_know = student_knowledge['student02']['T3']\n",
        "- p_know_updated = BKT().update(p_know, is_correct=True)\n",
        "- student_knowledge['student02']['T3'] = p_know_updated\n",
        "\n",
        "- 요렇게 학생별로 유형별 학습 상태를 실시간으로 업데이트"
      ],
      "metadata": {
        "id": "gOvhyq4dpWOS"
      }
    },
    {
      "cell_type": "code",
      "source": [
        "bkt_model = BKT()"
      ],
      "metadata": {
        "id": "WxWS05JNpWfB"
      },
      "execution_count": null,
      "outputs": []
    },
    {
      "cell_type": "code",
      "source": [
        "# ----------------------------\n",
        "# 학생별 문제 풀이 결과\n",
        "# ----------------------------\n",
        "for student in students:\n",
        "    print(f\"\\n📘 {student} 문제 풀이 결과:\")\n",
        "\n",
        "    for p in selected_problems:\n",
        "        q_type = p['type']\n",
        "        q_diff = p['difficulty']\n",
        "        correct_prob = difficulty_correct_prob[q_diff]\n",
        "        is_correct = random.random() < correct_prob\n",
        "\n",
        "        p_know = student_knowledge[student][q_type]\n",
        "        p_know_updated = bkt_model.update(p_know, is_correct)\n",
        "        student_knowledge[student][q_type] = p_know_updated\n",
        "\n",
        "        print(f\"문제 {p['id']:02d} | 유형 {q_type} | 난이도 {q_diff} | {'정답' if is_correct else '오답'} → P(Know)={p_know_updated:.4f}\")\n",
        "\n",
        "# ----------------------------\n",
        "# 최종 진단 결과\n",
        "# ----------------------------\n",
        "print(\"\\n🧠 최종 진단 결과 (P(Know)):\")\n",
        "for student in students:\n",
        "    print(f\"\\n{student}\")\n",
        "    for t in types:\n",
        "        print(f\"  유형 {t}: {student_knowledge[student][t]:.4f}\")"
      ],
      "metadata": {
        "colab": {
          "base_uri": "https://localhost:8080/"
        },
        "id": "t0qSNHPDnd0u",
        "outputId": "7b04e6e4-c96f-496d-e5b4-1b604e347647"
      },
      "execution_count": null,
      "outputs": [
        {
          "output_type": "stream",
          "name": "stdout",
          "text": [
            "\n",
            "📘 student01 문제 풀이 결과:\n",
            "문제 17 | 유형 T5 | 난이도 하 | 정답 → P(Know)=0.6410\n",
            "문제 09 | 유형 T4 | 난이도 하 | 정답 → P(Know)=0.6410\n",
            "문제 38 | 유형 T4 | 난이도 상 | 정답 → P(Know)=0.9101\n",
            "문제 21 | 유형 T4 | 난이도 상 | 정답 → P(Know)=0.9823\n",
            "문제 07 | 유형 T5 | 난이도 상 | 정답 → P(Know)=0.9101\n",
            "문제 05 | 유형 T5 | 난이도 하 | 정답 → P(Know)=0.9823\n",
            "문제 11 | 유형 T5 | 난이도 중 | 정답 → P(Know)=0.9967\n",
            "문제 12 | 유형 T2 | 난이도 중 | 정답 → P(Know)=0.6410\n",
            "문제 22 | 유형 T5 | 난이도 상 | 오답 → P(Know)=0.9668\n",
            "문제 34 | 유형 T3 | 난이도 중 | 오답 → P(Know)=0.3115\n",
            "\n",
            "📘 student02 문제 풀이 결과:\n",
            "문제 17 | 유형 T5 | 난이도 하 | 정답 → P(Know)=0.6410\n",
            "문제 09 | 유형 T4 | 난이도 하 | 정답 → P(Know)=0.6410\n",
            "문제 38 | 유형 T4 | 난이도 상 | 오답 → P(Know)=0.3745\n",
            "문제 21 | 유형 T4 | 난이도 상 | 오답 → P(Know)=0.3269\n",
            "문제 07 | 유형 T5 | 난이도 상 | 오답 → P(Know)=0.3745\n",
            "문제 05 | 유형 T5 | 난이도 하 | 정답 → P(Know)=0.7862\n",
            "문제 11 | 유형 T5 | 난이도 중 | 정답 → P(Know)=0.9533\n",
            "문제 12 | 유형 T2 | 난이도 중 | 정답 → P(Know)=0.6410\n",
            "문제 22 | 유형 T5 | 난이도 상 | 정답 → P(Know)=0.9911\n",
            "문제 34 | 유형 T3 | 난이도 중 | 정답 → P(Know)=0.6410\n",
            "\n",
            "📘 student03 문제 풀이 결과:\n",
            "문제 17 | 유형 T5 | 난이도 하 | 정답 → P(Know)=0.6410\n",
            "문제 09 | 유형 T4 | 난이도 하 | 정답 → P(Know)=0.6410\n",
            "문제 38 | 유형 T4 | 난이도 상 | 오답 → P(Know)=0.3745\n",
            "문제 21 | 유형 T4 | 난이도 상 | 오답 → P(Know)=0.3269\n",
            "문제 07 | 유형 T5 | 난이도 상 | 오답 → P(Know)=0.3745\n",
            "문제 05 | 유형 T5 | 난이도 하 | 정답 → P(Know)=0.7862\n",
            "문제 11 | 유형 T5 | 난이도 중 | 오답 → P(Know)=0.4379\n",
            "문제 12 | 유형 T2 | 난이도 중 | 정답 → P(Know)=0.6410\n",
            "문제 22 | 유형 T5 | 난이도 상 | 오답 → P(Know)=0.3346\n",
            "문제 34 | 유형 T3 | 난이도 중 | 오답 → P(Know)=0.3115\n",
            "\n",
            "🧠 최종 진단 결과 (P(Know)):\n",
            "\n",
            "student01\n",
            "  유형 T1: 0.2000\n",
            "  유형 T2: 0.6410\n",
            "  유형 T3: 0.3115\n",
            "  유형 T4: 0.9823\n",
            "  유형 T5: 0.9668\n",
            "\n",
            "student02\n",
            "  유형 T1: 0.2000\n",
            "  유형 T2: 0.6410\n",
            "  유형 T3: 0.6410\n",
            "  유형 T4: 0.3269\n",
            "  유형 T5: 0.9911\n",
            "\n",
            "student03\n",
            "  유형 T1: 0.2000\n",
            "  유형 T2: 0.6410\n",
            "  유형 T3: 0.3115\n",
            "  유형 T4: 0.3269\n",
            "  유형 T5: 0.3346\n"
          ]
        }
      ]
    },
    {
      "cell_type": "code",
      "source": [
        "student_knowledge"
      ],
      "metadata": {
        "colab": {
          "base_uri": "https://localhost:8080/"
        },
        "id": "HoGX8IkpsEN6",
        "outputId": "b5af8a91-30c7-451c-c2ef-807fd7802297"
      },
      "execution_count": null,
      "outputs": [
        {
          "output_type": "execute_result",
          "data": {
            "text/plain": [
              "{'student01': {'T1': 0.2,\n",
              "  'T2': 0.641025641025641,\n",
              "  'T3': 0.3114754098360656,\n",
              "  'T4': 0.9822629020581239,\n",
              "  'T5': 0.9667781944880046},\n",
              " 'student02': {'T1': 0.2,\n",
              "  'T2': 0.641025641025641,\n",
              "  'T3': 0.641025641025641,\n",
              "  'T4': 0.32686436982119493,\n",
              "  'T5': 0.9910836241148347},\n",
              " 'student03': {'T1': 0.2,\n",
              "  'T2': 0.641025641025641,\n",
              "  'T3': 0.3114754098360656,\n",
              "  'T4': 0.32686436982119493,\n",
              "  'T5': 0.33455388513810763}}"
            ]
          },
          "metadata": {},
          "execution_count": 6
        }
      ]
    },
    {
      "cell_type": "markdown",
      "source": [
        "# <font color='orange'> **4. 학생별 맟춤형 모의 고사 수행**\n",
        "- **학생별로 지식수준이 낮은 유형의 문제를 계속 출제하게 하여 해당 유형에 대한 지식을 Up**"
      ],
      "metadata": {
        "id": "5YuXc3xNqgDA"
      }
    },
    {
      "cell_type": "code",
      "source": [
        "# 문제 난이도별 정답 확률\n",
        "difficulty_correct_prob = {'하': 0.9, '중': 0.6, '상': 0.3}"
      ],
      "metadata": {
        "id": "wm9UQ3xScXp3"
      },
      "execution_count": null,
      "outputs": []
    },
    {
      "cell_type": "code",
      "source": [
        "student_knowledge"
      ],
      "metadata": {
        "colab": {
          "base_uri": "https://localhost:8080/"
        },
        "id": "Hl7h3_QPs5-Y",
        "outputId": "cc78b42a-f400-43ff-c86b-b3ee27512fe1"
      },
      "execution_count": null,
      "outputs": [
        {
          "output_type": "execute_result",
          "data": {
            "text/plain": [
              "{'student01': {'T1': 0.2,\n",
              "  'T2': 0.641025641025641,\n",
              "  'T3': 0.3114754098360656,\n",
              "  'T4': 0.9822629020581239,\n",
              "  'T5': 0.9667781944880046},\n",
              " 'student02': {'T1': 0.2,\n",
              "  'T2': 0.641025641025641,\n",
              "  'T3': 0.641025641025641,\n",
              "  'T4': 0.32686436982119493,\n",
              "  'T5': 0.9910836241148347},\n",
              " 'student03': {'T1': 0.2,\n",
              "  'T2': 0.641025641025641,\n",
              "  'T3': 0.3114754098360656,\n",
              "  'T4': 0.32686436982119493,\n",
              "  'T5': 0.33455388513810763}}"
            ]
          },
          "metadata": {},
          "execution_count": 8
        }
      ]
    },
    {
      "cell_type": "code",
      "source": [
        "students = list(student_knowledge.keys())\n",
        "students"
      ],
      "metadata": {
        "colab": {
          "base_uri": "https://localhost:8080/"
        },
        "id": "F_RcvU8Ds8nJ",
        "outputId": "1d375a65-77c6-4e11-ffb9-2db973892fe1"
      },
      "execution_count": null,
      "outputs": [
        {
          "output_type": "execute_result",
          "data": {
            "text/plain": [
              "['student01', 'student02', 'student03']"
            ]
          },
          "metadata": {},
          "execution_count": 9
        }
      ]
    },
    {
      "cell_type": "code",
      "source": [
        "# 개인화 문제 출제 및 풀이\n",
        "for student in students:\n",
        "    print(f\"\\n📘 {student} 맞춤형 문제 출제 및 풀이\")\n",
        "\n",
        "    # 1. 약한 유형 2개 추출\n",
        "    sorted_types = sorted(student_knowledge[student], key=lambda t: student_knowledge[student][t])\n",
        "    weak1, weak2 = sorted_types[0], sorted_types[1]\n",
        "\n",
        "    # 2. 해당 유형에서 문제 추출\n",
        "    weak1_problems = [p for p in problems if p['type'] == weak1]\n",
        "    weak2_problems = [p for p in problems if p['type'] == weak2]\n",
        "\n",
        "    # 문제 수 보장\n",
        "    selected = random.sample(weak1_problems, min(6, len(weak1_problems))) + \\\n",
        "               random.sample(weak2_problems, min(4, len(weak2_problems)))\n",
        "    random.shuffle(selected)\n",
        "\n",
        "    # 3. 문제 풀이 및 BKT 업데이트\n",
        "    for p in selected:\n",
        "        q_type = p['type']\n",
        "        q_diff = p['difficulty']\n",
        "        is_correct = random.random() < difficulty_correct_prob[q_diff]\n",
        "\n",
        "        # 기존 P(Know)\n",
        "        p_know = student_knowledge[student][q_type]\n",
        "        p_know_updated = bkt_model.update(p_know, is_correct)\n",
        "        student_knowledge[student][q_type] = p_know_updated\n",
        "\n",
        "        print(f\"문제 {p['id']:02d} | 유형 {q_type} | 난이도 {q_diff} | {'정답' if is_correct else '오답'} → P(Know) = {p_know_updated:.4f}\")"
      ],
      "metadata": {
        "colab": {
          "base_uri": "https://localhost:8080/"
        },
        "id": "b4B4t9BBsWH7",
        "outputId": "99f7f67a-2e17-4171-c83d-380d40b17af8"
      },
      "execution_count": null,
      "outputs": [
        {
          "output_type": "stream",
          "name": "stdout",
          "text": [
            "\n",
            "📘 student01 맞춤형 문제 출제 및 풀이\n",
            "문제 45 | 유형 T3 | 난이도 하 | 정답 → P(Know) = 0.7426\n",
            "문제 37 | 유형 T1 | 난이도 상 | 오답 → P(Know) = 0.3115\n",
            "문제 16 | 유형 T1 | 난이도 상 | 오답 → P(Know) = 0.3205\n",
            "문제 14 | 유형 T1 | 난이도 상 | 오답 → P(Know) = 0.3213\n",
            "문제 10 | 유형 T1 | 난이도 하 | 정답 → P(Know) = 0.7499\n",
            "문제 20 | 유형 T1 | 난이도 중 | 정답 → P(Know) = 0.9435\n",
            "문제 42 | 유형 T3 | 난이도 중 | 정답 → P(Know) = 0.9415\n",
            "문제 08 | 유형 T1 | 난이도 하 | 정답 → P(Know) = 0.9891\n",
            "문제 44 | 유형 T3 | 난이도 중 | 정답 → P(Know) = 0.9887\n",
            "문제 26 | 유형 T3 | 난이도 하 | 정답 → P(Know) = 0.9979\n",
            "\n",
            "📘 student02 맞춤형 문제 출제 및 풀이\n",
            "문제 08 | 유형 T1 | 난이도 하 | 정답 → P(Know) = 0.6410\n",
            "문제 16 | 유형 T1 | 난이도 상 | 오답 → P(Know) = 0.3745\n",
            "문제 46 | 유형 T4 | 난이도 하 | 정답 → P(Know) = 0.7540\n",
            "문제 14 | 유형 T1 | 난이도 상 | 정답 → P(Know) = 0.7862\n",
            "문제 10 | 유형 T1 | 난이도 하 | 정답 → P(Know) = 0.9533\n",
            "문제 20 | 유형 T1 | 난이도 중 | 오답 → P(Know) = 0.7034\n",
            "문제 04 | 유형 T1 | 난이도 하 | 정답 → P(Know) = 0.9301\n",
            "문제 02 | 유형 T4 | 난이도 중 | 정답 → P(Know) = 0.9446\n",
            "문제 23 | 유형 T4 | 난이도 하 | 정답 → P(Know) = 0.9894\n",
            "문제 21 | 유형 T4 | 난이도 상 | 정답 → P(Know) = 0.9980\n",
            "\n",
            "📘 student03 맞춤형 문제 출제 및 풀이\n",
            "문제 14 | 유형 T1 | 난이도 상 | 오답 → P(Know) = 0.3115\n",
            "문제 19 | 유형 T1 | 난이도 중 | 정답 → P(Know) = 0.7426\n",
            "문제 31 | 유형 T3 | 난이도 중 | 오답 → P(Know) = 0.3205\n",
            "문제 37 | 유형 T1 | 난이도 상 | 오답 → P(Know) = 0.4129\n",
            "문제 44 | 유형 T3 | 난이도 중 | 정답 → P(Know) = 0.7493\n",
            "문제 34 | 유형 T3 | 난이도 중 | 오답 → P(Know) = 0.4163\n",
            "문제 18 | 유형 T3 | 난이도 하 | 정답 → P(Know) = 0.8113\n",
            "문제 16 | 유형 T1 | 난이도 상 | 정답 → P(Know) = 0.8094\n",
            "문제 08 | 유형 T1 | 난이도 하 | 정답 → P(Know) = 0.9592\n",
            "문제 04 | 유형 T1 | 난이도 하 | 정답 → P(Know) = 0.9922\n"
          ]
        }
      ]
    },
    {
      "cell_type": "markdown",
      "source": [
        "# <font color='orange'> **5. 학생별 맟춤형 모의 고사 수행 Simulation 검증**\n",
        "- **학생별로 지식수준이 낮은 유형의 문제를 계속 출제하게 하여 해당 유형에 대한 지식을 Up**\n",
        "\n",
        "- 학생 3명이 개인화된 문제를 10회씩 풀면서 유형별 P(Know)가 어떻게 변화했는지 시각화한 결과\n",
        "\n",
        "- 그래프 해석 방법\n",
        "> - X축: 시뮬레이션 회차 (초기 상태 포함 총 11단계)\n",
        "> - Y축: 각 문제 유형(T1~T5)에 대한 P(Know) 값\n",
        "> - 각 라인: 특정 유형(T1~T5)의 지식 수준 변화\n",
        "\n",
        "- 시사점\n",
        "> - 학생마다 가장 약한 유형에 대해 반복 출제했기 때문에 해당 유형의 P(Know)가 급격히 상승하는 경향을 관찰\n",
        "> - 특정 유형만 반복한 게 아니기 때문에 다른 유형도 간접적 영향을 줄 듯\n",
        "> - 결과적으로 유형별 P(Know)가 고르게 향상되는 전략으로 작동했는지 확인\n",
        "\n"
      ],
      "metadata": {
        "id": "RWURdEpCt-M8"
      }
    },
    {
      "cell_type": "code",
      "source": [
        "import random\n",
        "import matplotlib.pyplot as plt\n",
        "\n",
        "# ----------------------------\n",
        "# BKT 클래스 정의\n",
        "# ----------------------------\n",
        "class BKT:\n",
        "    def __init__(self, p_init=0.2, p_learn=0.3, p_guess=0.2, p_slip=0.1):\n",
        "        self.p_init = p_init\n",
        "        self.p_learn = p_learn\n",
        "        self.p_guess = p_guess\n",
        "        self.p_slip = p_slip\n",
        "\n",
        "    def update(self, p_know, is_correct):\n",
        "        if is_correct:\n",
        "            num = p_know * (1 - self.p_slip)\n",
        "            den = num + (1 - p_know) * self.p_guess\n",
        "        else:\n",
        "            num = p_know * self.p_slip\n",
        "            den = num + (1 - p_know) * (1 - self.p_guess)\n",
        "        p_know_given_obs = num / den\n",
        "        return p_know_given_obs + (1 - p_know_given_obs) * self.p_learn\n",
        "\n",
        "# ----------------------------\n",
        "# 문제 풀 생성\n",
        "# ----------------------------\n",
        "levels = ['상', '중', '하']\n",
        "types = ['T1', 'T2', 'T3', 'T4', 'T5']\n",
        "problems = [{'id': i, 'difficulty': random.choice(levels), 'type': random.choice(types)} for i in range(100)]\n",
        "\n",
        "# ----------------------------\n",
        "# 초기 진단 결과\n",
        "# ----------------------------\n",
        "student_knowledge = {\n",
        "    'student01': {'T1': 0.2000, 'T2': 0.6715, 'T3': 0.9434, 'T4': 0.8094, 'T5': 0.9967},\n",
        "    'student02': {'T1': 0.2000, 'T2': 0.9880, 'T3': 0.8508, 'T4': 0.9533, 'T5': 0.8887},\n",
        "    'student03': {'T1': 0.2000, 'T2': 0.8416, 'T3': 0.9967, 'T4': 0.9887, 'T5': 0.6622},\n",
        "}\n",
        "\n",
        "difficulty_correct_prob = {'하': 0.9, '중': 0.6, '상': 0.3}\n",
        "students = list(student_knowledge.keys())\n",
        "bkt_model = BKT()\n",
        "\n",
        "# ----------------------------\n",
        "# 시뮬레이션 함수\n",
        "# ----------------------------\n",
        "def personalized_problem_simulation(student_id, knowledge_dict, num_rounds=10):\n",
        "    history = {t: [knowledge_dict[t]] for t in types}\n",
        "\n",
        "    for _ in range(num_rounds):\n",
        "        # 약한 유형 2개 선택\n",
        "        sorted_types = sorted(knowledge_dict, key=lambda t: knowledge_dict[t])\n",
        "        weak1, weak2 = sorted_types[0], sorted_types[1]\n",
        "\n",
        "        # 해당 유형 문제 출제\n",
        "        weak1_problems = [p for p in problems if p['type'] == weak1]\n",
        "        weak2_problems = [p for p in problems if p['type'] == weak2]\n",
        "        selected = random.sample(weak1_problems, min(6, len(weak1_problems))) + \\\n",
        "                   random.sample(weak2_problems, min(4, len(weak2_problems)))\n",
        "        random.shuffle(selected)\n",
        "\n",
        "        # 문제 풀이 및 P(Know) 업데이트\n",
        "        for p in selected:\n",
        "            q_type = p['type']\n",
        "            correct_prob = difficulty_correct_prob[p['difficulty']]\n",
        "            is_correct = random.random() < correct_prob\n",
        "            current_p = knowledge_dict[q_type]\n",
        "            updated_p = bkt_model.update(current_p, is_correct)\n",
        "            knowledge_dict[q_type] = updated_p\n",
        "\n",
        "        # 상태 기록\n",
        "        for t in types:\n",
        "            history[t].append(knowledge_dict[t])\n",
        "\n",
        "    return history\n",
        "\n",
        "# ----------------------------\n",
        "# 시뮬레이션 수행\n",
        "# ----------------------------\n",
        "student_histories = {}\n",
        "for student in students:\n",
        "    student_histories[student] = personalized_problem_simulation(student, student_knowledge[student].copy())\n",
        "\n",
        "# ----------------------------\n",
        "# 시각화\n",
        "# ----------------------------\n",
        "fig, axes = plt.subplots(1, 3, figsize=(18, 5), sharey=True)\n",
        "\n",
        "for idx, student in enumerate(students):\n",
        "    ax = axes[idx]\n",
        "    for t in types:\n",
        "        ax.plot(student_histories[student][t], label=t)\n",
        "    ax.set_title(student)\n",
        "    ax.set_xlabel(\"Try\")\n",
        "    ax.set_ylabel(\"P(Know)\")\n",
        "    ax.legend()\n",
        "    ax.grid(True)\n",
        "\n",
        "plt.suptitle(\"Students and P(Know) Trend (10 times try)\", fontsize=16)\n",
        "plt.tight_layout(rect=[0, 0, 1, 0.95])\n",
        "plt.show()\n"
      ],
      "metadata": {
        "colab": {
          "base_uri": "https://localhost:8080/",
          "height": 369
        },
        "id": "B9TLT-UvtIk6",
        "outputId": "c5051b4d-ee53-49a9-a7fc-605177177f5c"
      },
      "execution_count": null,
      "outputs": [
        {
          "output_type": "display_data",
          "data": {
            "text/plain": [
              "<Figure size 1800x500 with 3 Axes>"
            ],
            "image/png": "[encoded data removed]"
          },
          "metadata": {}
        }
      ]
    },
    {
      "cell_type": "markdown",
      "source": [
        "# <font color='orange'> **6. 서비스를 위하여**\n",
        "- 학생별로 문제풀이 기록도 표로 출력\n",
        "- 이 과정을 Streamlit 대시보드로 구현\n",
        "- SQLite에 저장하여 학습 로그 관리\n",
        "\n"
      ],
      "metadata": {
        "id": "KUhgQlw3t_BY"
      }
    },
    {
      "cell_type": "code",
      "source": [
        "! pip install gradio --quiet"
      ],
      "metadata": {
        "id": "hTyxdg5mvbHl"
      },
      "execution_count": null,
      "outputs": []
    },
    {
      "cell_type": "code",
      "source": [
        "import sqlite3\n",
        "import pandas as pd\n",
        "import gradio as gr\n",
        "\n",
        "# ----------------------------\n",
        "# 학습 로그를 저장할 SQLite DB 초기화\n",
        "# ----------------------------\n",
        "def initialize_db():\n",
        "    conn = sqlite3.connect(\"learning_log.db\")\n",
        "    cursor = conn.cursor()\n",
        "    cursor.execute('''\n",
        "        CREATE TABLE IF NOT EXISTS logs (\n",
        "            student_id TEXT,\n",
        "            round INTEGER,\n",
        "            problem_id INTEGER,\n",
        "            type TEXT,\n",
        "            difficulty TEXT,\n",
        "            is_correct INTEGER,\n",
        "            p_know_before REAL,\n",
        "            p_know_after REAL\n",
        "        )\n",
        "    ''')\n",
        "    conn.commit()\n",
        "    conn.close()\n",
        "\n",
        "# ----------------------------\n",
        "# DB에 기록 저장 함수\n",
        "# ----------------------------\n",
        "def log_to_db(student_id, round_num, problem, is_correct, p_before, p_after):\n",
        "    conn = sqlite3.connect(\"learning_log.db\")\n",
        "    cursor = conn.cursor()\n",
        "    cursor.execute('''\n",
        "        INSERT INTO logs (student_id, round, problem_id, type, difficulty, is_correct, p_know_before, p_know_after)\n",
        "        VALUES (?, ?, ?, ?, ?, ?, ?, ?)\n",
        "    ''', (student_id, round_num, problem['id'], problem['type'], problem['difficulty'], int(is_correct), p_before, p_after))\n",
        "    conn.commit()\n",
        "    conn.close()\n",
        "\n",
        "# ----------------------------\n",
        "# 학습 시뮬레이션 + DB 기록\n",
        "# ----------------------------\n",
        "def simulate_learning_and_log(student_id, knowledge_dict, rounds=10):\n",
        "    for round_num in range(1, rounds + 1):\n",
        "        # 가장 약한 유형 2개 선택\n",
        "        sorted_types = sorted(knowledge_dict, key=lambda t: knowledge_dict[t])\n",
        "        weak1, weak2 = sorted_types[0], sorted_types[1]\n",
        "\n",
        "        weak1_problems = [p for p in problems if p['type'] == weak1]\n",
        "        weak2_problems = [p for p in problems if p['type'] == weak2]\n",
        "\n",
        "        selected = random.sample(weak1_problems, min(6, len(weak1_problems))) + \\\n",
        "                   random.sample(weak2_problems, min(4, len(weak2_problems)))\n",
        "        random.shuffle(selected)\n",
        "\n",
        "        for p in selected:\n",
        "            q_type = p['type']\n",
        "            correct_prob = difficulty_correct_prob[p['difficulty']]\n",
        "            is_correct = random.random() < correct_prob\n",
        "            p_before = knowledge_dict[q_type]\n",
        "            p_after = bkt_model.update(p_before, is_correct)\n",
        "            knowledge_dict[q_type] = p_after\n",
        "\n",
        "            log_to_db(student_id, round_num, p, is_correct, p_before, p_after)\n",
        "\n",
        "# ----------------------------\n",
        "# Gradio 대시보드 함수\n",
        "# ----------------------------\n",
        "def display_logs(student_id):\n",
        "    conn = sqlite3.connect(\"learning_log.db\")\n",
        "    df = pd.read_sql_query(f\"SELECT * FROM logs WHERE student_id='{student_id}'\", conn)\n",
        "    conn.close()\n",
        "    return df\n",
        "\n",
        "# ----------------------------\n",
        "# 전체 실행 흐름\n",
        "# ----------------------------\n",
        "initialize_db()\n",
        "\n",
        "# 초기 상태 복사\n",
        "initial_knowledge = {\n",
        "    'student01': {'T1': 0.2000, 'T2': 0.6715, 'T3': 0.9434, 'T4': 0.8094, 'T5': 0.9967},\n",
        "    'student02': {'T1': 0.2000, 'T2': 0.9880, 'T3': 0.8508, 'T4': 0.9533, 'T5': 0.8887},\n",
        "    'student03': {'T1': 0.2000, 'T2': 0.8416, 'T3': 0.9967, 'T4': 0.9887, 'T5': 0.6622},\n",
        "}\n",
        "\n",
        "for student in students:\n",
        "    simulate_learning_and_log(student, initial_knowledge[student].copy())\n",
        "\n",
        "# Gradio 인터페이스\n",
        "demo = gr.Interface(\n",
        "    fn=display_logs,\n",
        "    inputs=gr.Dropdown(choices=students, label=\"학생 선택\"),\n",
        "    outputs=gr.Dataframe(label=\"문제 풀이 기록\"),\n",
        "    title=\"📊 학생별 문제풀이 로그 조회\",\n",
        "    description=\"학생을 선택하면 SQLite에 저장된 문제 풀이 기록을 확인할 수 있습니다.\"\n",
        ")\n",
        "\n",
        "demo.launch(share=True)\n"
      ],
      "metadata": {
        "colab": {
          "base_uri": "https://localhost:8080/",
          "height": 613
        },
        "id": "XdW1dnLWvYNR",
        "outputId": "21d8a2a1-0aa7-4de0-ccd2-fde824c2e0a1"
      },
      "execution_count": null,
      "outputs": [
        {
          "output_type": "stream",
          "name": "stdout",
          "text": [
            "Colab notebook detected. To show errors in colab notebook, set debug=True in launch()\n",
            "* Running on public URL: https://4e62b14863b8f47d4e.gradio.live\n",
            "\n",
            "This share link expires in 1 week. For free permanent hosting and GPU upgrades, run `gradio deploy` from the terminal in the working directory to deploy to Hugging Face Spaces (https://huggingface.co/spaces)\n"
          ]
        },
        {
          "output_type": "display_data",
          "data": {
            "text/plain": [
              "<IPython.core.display.HTML object>"
            ],
            "text/html": [
              "<div><iframe src=\"https://4e62b14863b8f47d4e.gradio.live\" width=\"100%\" height=\"500\" allow=\"autoplay; camera; microphone; clipboard-read; clipboard-write;\" frameborder=\"0\" allowfullscreen></iframe></div>"
            ]
          },
          "metadata": {}
        },
        {
          "output_type": "execute_result",
          "data": {
            "text/plain": []
          },
          "metadata": {},
          "execution_count": 13
        }
      ]
    },
    {
      "cell_type": "code",
      "source": [],
      "metadata": {
        "id": "W6w5X0KdvZCo"
      },
      "execution_count": null,
      "outputs": []
    }
  ]
}